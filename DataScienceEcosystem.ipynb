{
 "cells": [
  {
   "cell_type": "markdown",
   "id": "c7f9eff3-3b7e-40d3-96fb-3efadf762c62",
   "metadata": {},
   "source": [
    "# Data Science Tools and Ecosystem"
   ]
  },
  {
   "cell_type": "markdown",
   "id": "6a11ebcb-f11d-4a1f-a1e0-be6dda139046",
   "metadata": {},
   "source": [
    "In this notebook, Data Science Tools and Ecosystem are summarized."
   ]
  },
  {
   "cell_type": "markdown",
   "id": "6fdae7ba-2f41-4712-9fe2-2062702af21f",
   "metadata": {},
   "source": [
    "Some of the popular languages that Data Scientists use are:\n",
    "1. Python\n",
    "2. R\n",
    "3. Julia"
   ]
  },
  {
   "cell_type": "markdown",
   "id": "cb56f735-b05a-4308-9e36-336bccb82604",
   "metadata": {},
   "source": [
    "Some of the commonly used libraries used by Data Scientists include:\n",
    "1. Tensorflow\n",
    "2. Pandas\n",
    "3. Keras"
   ]
  },
  {
   "cell_type": "markdown",
   "id": "c61b8403-b5dc-471a-a419-73e783bfd463",
   "metadata": {},
   "source": [
    "| Data Science Tools |\n",
    "| ------------------ |\n",
    "| Jupyter Notebooks|\n",
    "| R Studio |\n",
    "| Knime |"
   ]
  },
  {
   "cell_type": "markdown",
   "id": "93d6268c-cfcc-49a6-b9c8-9c07667f904c",
   "metadata": {},
   "source": [
    "### Below are a few examples of evaluating arithmetic expressions in Python."
   ]
  },
  {
   "cell_type": "code",
   "execution_count": 3,
   "id": "8b32c62b-462b-442d-843b-43e1b1f51e47",
   "metadata": {},
   "outputs": [
    {
     "data": {
      "text/plain": [
       "17"
      ]
     },
     "execution_count": 3,
     "metadata": {},
     "output_type": "execute_result"
    }
   ],
   "source": [
    "# This a simple arithmetic expression to mutiply then add integers\n",
    "(3*4)+5"
   ]
  },
  {
   "cell_type": "code",
   "execution_count": 5,
   "id": "4d8d922b-98a4-4568-9b42-e5cb1b207162",
   "metadata": {},
   "outputs": [
    {
     "name": "stdout",
     "output_type": "stream",
     "text": [
      "200  minutes =  3.3333333333333335  hours \n"
     ]
    }
   ],
   "source": [
    "# This will convert 200 minutes to hours by diving by 60\n",
    "mins = 200\n",
    "hours = mins/60\n",
    "print(mins, \" minutes = \", hours, \" hours \")"
   ]
  },
  {
   "cell_type": "markdown",
   "id": "c274ef35-ac41-4c48-88e6-9f3d1fb39b24",
   "metadata": {},
   "source": [
    "__Objectives:__\n",
    "* List Popular languages for data science\n",
    "* Learn simple arithmetic operations in python\n",
    "* Use markdown to create a narative for your notebook"
   ]
  },
  {
   "cell_type": "markdown",
   "id": "9909f230-fee4-461d-8b82-884f8cb2cea7",
   "metadata": {},
   "source": [
    "## Author\n",
    "Pumulo"
   ]
  },
  {
   "cell_type": "code",
   "execution_count": null,
   "id": "0a8d11f3-df18-4d43-a6f5-1ff8a38da7a4",
   "metadata": {},
   "outputs": [],
   "source": []
  }
 ],
 "metadata": {
  "kernelspec": {
   "display_name": "Python 3 (ipykernel)",
   "language": "python",
   "name": "python3"
  },
  "language_info": {
   "codemirror_mode": {
    "name": "ipython",
    "version": 3
   },
   "file_extension": ".py",
   "mimetype": "text/x-python",
   "name": "python",
   "nbconvert_exporter": "python",
   "pygments_lexer": "ipython3",
   "version": "3.11.9"
  }
 },
 "nbformat": 4,
 "nbformat_minor": 5
}
